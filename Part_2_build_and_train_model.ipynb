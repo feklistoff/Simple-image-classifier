{
 "cells": [
  {
   "cell_type": "markdown",
   "metadata": {},
   "source": [
    "### Imports"
   ]
  },
  {
   "cell_type": "code",
   "execution_count": 1,
   "metadata": {},
   "outputs": [],
   "source": [
    "import numpy as np\n",
    "import pandas as pd\n",
    "import cv2\n",
    "import os, glob\n",
    "import random\n",
    "import pickle\n",
    "\n",
    "import torch\n",
    "from torch import nn\n",
    "from torch import optim\n",
    "import torch.nn.functional as F\n",
    "from torch.utils import data\n",
    "import torchvision\n",
    "from torchvision import transforms\n",
    "from albumentations import Compose, Normalize, Resize\n",
    "\n",
    "import matplotlib.pyplot as plt\n",
    "%matplotlib inline"
   ]
  },
  {
   "cell_type": "markdown",
   "metadata": {},
   "source": [
    "### Check Device"
   ]
  },
  {
   "cell_type": "code",
   "execution_count": 2,
   "metadata": {},
   "outputs": [
    {
     "name": "stdout",
     "output_type": "stream",
     "text": [
      "cuda:0\n"
     ]
    }
   ],
   "source": [
    "device = torch.device(\"cuda:0\" if torch.cuda.is_available() else \"cpu\")\n",
    "print(device)"
   ]
  },
  {
   "cell_type": "markdown",
   "metadata": {},
   "source": [
    "### Load Encoder/Decoder"
   ]
  },
  {
   "cell_type": "code",
   "execution_count": 3,
   "metadata": {},
   "outputs": [],
   "source": [
    "with open('encoder_decoder.pkl', 'rb') as f:\n",
    "    encode_decode_labels = pickle.load(f)\n",
    "classes = encode_decode_labels['classes']\n",
    "to_class = encode_decode_labels['to_class']"
   ]
  },
  {
   "cell_type": "markdown",
   "metadata": {},
   "source": [
    "### Load Data"
   ]
  },
  {
   "cell_type": "code",
   "execution_count": 4,
   "metadata": {},
   "outputs": [],
   "source": [
    "train = pd.read_csv('train.csv')\n",
    "valid = pd.read_csv('valid.csv')"
   ]
  },
  {
   "cell_type": "markdown",
   "metadata": {},
   "source": [
    "### Make Dataset"
   ]
  },
  {
   "cell_type": "code",
   "execution_count": 5,
   "metadata": {},
   "outputs": [],
   "source": [
    "image_size = 32\n",
    "batch_size = 32"
   ]
  },
  {
   "cell_type": "markdown",
   "metadata": {},
   "source": [
    "NOTE: I've chosen `albumentations` transforms because this library uses opencv under the hood and it is more convenient than original torchvision.transforms which uses PIL"
   ]
  },
  {
   "cell_type": "code",
   "execution_count": 6,
   "metadata": {},
   "outputs": [],
   "source": [
    "transform = Compose([Resize(image_size, image_size),\n",
    "                     Normalize(\n",
    "                         mean=[0.5, 0.5, 0.5],\n",
    "                         std=[0.5, 0.5, 0.5]\n",
    "                     )])"
   ]
  },
  {
   "cell_type": "code",
   "execution_count": 7,
   "metadata": {},
   "outputs": [],
   "source": [
    "class WeseeDataset(data.Dataset):\n",
    "\n",
    "    def __init__(self,\n",
    "                 df,\n",
    "                 classes,\n",
    "                 transform=None,\n",
    "                 size=32):\n",
    "        \"\"\"\n",
    "        df: dataframe with all data\n",
    "        classes: dict with map to encode labels\n",
    "        transform: whether to transform data\n",
    "        size: size of train/test image\n",
    "        \"\"\"\n",
    "        self.df = df\n",
    "        self.classes = classes\n",
    "        self.transform = transform\n",
    "        self.size = size\n",
    "               \n",
    "        \n",
    "    def __len__(self):\n",
    "        return len(self.df)\n",
    "\n",
    "    \n",
    "    def __getitem__(self, index):\n",
    "        \n",
    "        file = self.df.iloc[index]\n",
    "        # get image\n",
    "        image = self.__load_image(file.filename)\n",
    "        \n",
    "        # get label\n",
    "        word = file.label\n",
    "        label = self.classes[word]\n",
    "        \n",
    "        if self.transform:\n",
    "            augmented = self.transform(image=image)\n",
    "            image = augmented['image']\n",
    "        else:\n",
    "            image = image / 255.\n",
    "        image = torch.from_numpy(image).float().permute([2, 0, 1])\n",
    "        return image, label\n",
    "\n",
    "    \n",
    "    def __load_image(self, path):\n",
    "        img = cv2.imread(path)\n",
    "        # if original image larger we downscale else we upscale\n",
    "        if min(img.shape) > self.size:\n",
    "            img = cv2.resize(img, (self.size, self.size), interpolation=cv2.INTER_AREA)\n",
    "        else:\n",
    "            img = cv2.resize(img, (self.size, self.size))\n",
    "        return img"
   ]
  },
  {
   "cell_type": "code",
   "execution_count": 8,
   "metadata": {},
   "outputs": [],
   "source": [
    "# training dataset:\n",
    "dataset_train = WeseeDataset(train, classes, transform=transform, size=image_size)\n",
    "# validation dataset:\n",
    "dataset_valid = WeseeDataset(valid, classes, transform=transform, size=image_size)\n",
    "\n",
    "train_loader = data.DataLoader(\n",
    "    dataset_train,\n",
    "    batch_size=batch_size,\n",
    "    shuffle=True,\n",
    "    num_workers=4)\n",
    "\n",
    "# do not shuffle for validation\n",
    "valid_loader = data.DataLoader(\n",
    "    dataset_valid,\n",
    "    batch_size=batch_size,\n",
    "    shuffle=False,\n",
    "    num_workers=4)"
   ]
  },
  {
   "cell_type": "markdown",
   "metadata": {},
   "source": [
    "### Dataset Examples"
   ]
  },
  {
   "cell_type": "code",
   "execution_count": 9,
   "metadata": {},
   "outputs": [
    {
     "name": "stderr",
     "output_type": "stream",
     "text": [
      "Clipping input data to the valid range for imshow with RGB data ([0..1] for floats or [0..255] for integers).\n"
     ]
    },
    {
     "name": "stdout",
     "output_type": "stream",
     "text": [
      "torch.Size([4, 3, 32, 32])\n",
      "['dark', 'ok', 'dark', 'ok']\n"
     ]
    },
    {
     "data": {
      "image/png": "[encoded data removed]",
      "text/plain": [
       "<Figure size 432x288 with 1 Axes>"
      ]
     },
     "metadata": {
      "needs_background": "light"
     },
     "output_type": "display_data"
    }
   ],
   "source": [
    "images, labels =  next(iter(train_loader))\n",
    "print(images[:4].shape)\n",
    "print([to_class[l] for l in labels[:4].numpy()])\n",
    "\n",
    "def imshow(img):\n",
    "    npimg = img.numpy()\n",
    "    plt.imshow(np.transpose(npimg, (1, 2, 0)))\n",
    "    \n",
    "imshow(torchvision.utils.make_grid(images[:4]))"
   ]
  },
  {
   "cell_type": "markdown",
   "metadata": {},
   "source": [
    "## Build Model"
   ]
  },
  {
   "cell_type": "code",
   "execution_count": 10,
   "metadata": {},
   "outputs": [
    {
     "data": {
      "text/plain": [
       "LeNet(\n",
       "  (conv1): Conv2d(3, 6, kernel_size=(5, 5), stride=(1, 1))\n",
       "  (conv2): Conv2d(6, 16, kernel_size=(5, 5), stride=(1, 1))\n",
       "  (fc1): Linear(in_features=400, out_features=120, bias=True)\n",
       "  (fc2): Linear(in_features=120, out_features=84, bias=True)\n",
       "  (fc3): Linear(in_features=84, out_features=3, bias=True)\n",
       ")"
      ]
     },
     "execution_count": 10,
     "metadata": {},
     "output_type": "execute_result"
    }
   ],
   "source": [
    "class LeNet(nn.Module):\n",
    "    def __init__(self):\n",
    "        super(LeNet, self).__init__()\n",
    "        self.conv1 = nn.Conv2d(3, 6, 5)\n",
    "        self.conv2 = nn.Conv2d(6, 16, 5)\n",
    "        self.fc1   = nn.Linear(16*5*5, 120)\n",
    "        self.fc2   = nn.Linear(120, 84)\n",
    "        self.fc3   = nn.Linear(84, 3)\n",
    "\n",
    "    def forward(self, x):\n",
    "        out = F.relu(self.conv1(x))\n",
    "        out = F.max_pool2d(out, 2)\n",
    "        out = F.relu(self.conv2(out))\n",
    "        out = F.max_pool2d(out, 2)\n",
    "        out = out.view(out.size(0), -1)\n",
    "        out = F.relu(self.fc1(out))\n",
    "        out = F.relu(self.fc2(out))\n",
    "        out = self.fc3(out)\n",
    "        return out\n",
    "\n",
    "model = LeNet()\n",
    "model"
   ]
  },
  {
   "cell_type": "code",
   "execution_count": 11,
   "metadata": {},
   "outputs": [],
   "source": [
    "model = model.to(device)"
   ]
  },
  {
   "cell_type": "code",
   "execution_count": 12,
   "metadata": {},
   "outputs": [],
   "source": [
    "# parameters\n",
    "learning_rate = 1e-3\n",
    "epochs = 30\n",
    "prev_acc = 0"
   ]
  },
  {
   "cell_type": "code",
   "execution_count": 13,
   "metadata": {},
   "outputs": [],
   "source": [
    "loss_fn = nn.CrossEntropyLoss()\n",
    "optimizer = torch.optim.Adam(model.parameters(), lr=learning_rate)"
   ]
  },
  {
   "cell_type": "markdown",
   "metadata": {},
   "source": [
    "### Training Model"
   ]
  },
  {
   "cell_type": "code",
   "execution_count": 14,
   "metadata": {
    "scrolled": false
   },
   "outputs": [
    {
     "name": "stdout",
     "output_type": "stream",
     "text": [
      "Epoch: 1, Train Loss: 1.073, Val Loss: 1.025, Val Acc: 0.471\n",
      "Model Saved. val acc: 0.471\n",
      "Epoch: 2, Train Loss: 0.927, Val Loss: 0.848, Val Acc: 0.765\n",
      "Model Saved. val acc: 0.765\n",
      "Epoch: 3, Train Loss: 0.719, Val Loss: 0.626, Val Acc: 0.824\n",
      "Model Saved. val acc: 0.824\n",
      "Epoch: 4, Train Loss: 0.507, Val Loss: 0.530, Val Acc: 0.706\n",
      "Epoch: 5, Train Loss: 0.372, Val Loss: 0.519, Val Acc: 0.765\n",
      "Epoch: 6, Train Loss: 0.343, Val Loss: 0.497, Val Acc: 0.824\n",
      "Epoch: 7, Train Loss: 0.306, Val Loss: 0.570, Val Acc: 0.824\n",
      "Epoch: 8, Train Loss: 0.250, Val Loss: 0.461, Val Acc: 0.824\n",
      "Epoch: 9, Train Loss: 0.321, Val Loss: 0.555, Val Acc: 0.824\n",
      "Epoch: 10, Train Loss: 0.258, Val Loss: 0.665, Val Acc: 0.824\n",
      "Epoch: 11, Train Loss: 0.235, Val Loss: 0.449, Val Acc: 0.824\n",
      "Epoch: 12, Train Loss: 0.137, Val Loss: 0.437, Val Acc: 0.824\n",
      "Epoch: 13, Train Loss: 0.173, Val Loss: 0.430, Val Acc: 0.824\n",
      "Epoch: 14, Train Loss: 0.099, Val Loss: 0.568, Val Acc: 0.824\n",
      "Epoch: 15, Train Loss: 0.100, Val Loss: 0.551, Val Acc: 0.824\n",
      "Epoch: 16, Train Loss: 0.105, Val Loss: 0.539, Val Acc: 0.824\n",
      "Epoch: 17, Train Loss: 0.086, Val Loss: 0.611, Val Acc: 0.824\n",
      "Epoch: 18, Train Loss: 0.076, Val Loss: 0.485, Val Acc: 0.824\n",
      "Epoch: 19, Train Loss: 0.129, Val Loss: 0.633, Val Acc: 0.824\n",
      "Epoch: 20, Train Loss: 0.075, Val Loss: 0.532, Val Acc: 0.882\n",
      "Model Saved. val acc: 0.882\n",
      "Epoch: 21, Train Loss: 0.057, Val Loss: 0.537, Val Acc: 0.824\n",
      "Epoch: 22, Train Loss: 0.070, Val Loss: 0.723, Val Acc: 0.824\n",
      "Epoch: 23, Train Loss: 0.109, Val Loss: 0.433, Val Acc: 0.941\n",
      "Model Saved. val acc: 0.941\n",
      "Epoch: 24, Train Loss: 0.085, Val Loss: 0.442, Val Acc: 0.882\n",
      "Epoch: 25, Train Loss: 0.149, Val Loss: 0.594, Val Acc: 0.824\n",
      "Epoch: 26, Train Loss: 0.102, Val Loss: 0.910, Val Acc: 0.824\n",
      "Epoch: 27, Train Loss: 0.083, Val Loss: 0.538, Val Acc: 0.824\n",
      "Epoch: 28, Train Loss: 0.080, Val Loss: 0.483, Val Acc: 0.882\n",
      "Epoch: 29, Train Loss: 0.052, Val Loss: 0.387, Val Acc: 0.941\n",
      "Epoch: 30, Train Loss: 0.037, Val Loss: 0.394, Val Acc: 0.941\n"
     ]
    }
   ],
   "source": [
    "for epoch in range(epochs):\n",
    "            \n",
    "    train_loss = []\n",
    "    val_loss = []\n",
    "    \n",
    "    # training:\n",
    "    model.train()\n",
    "\n",
    "    for images, labels in train_loader:\n",
    "        images = images.to(device)\n",
    "        labels = labels.to(device)\n",
    "        \n",
    "        pred = model(images)\n",
    "        loss = loss_fn(pred, labels)\n",
    "        train_loss.append(loss.item())\n",
    "        \n",
    "        optimizer.zero_grad()\n",
    "        loss.backward()                       \n",
    "        optimizer.step()\n",
    "\n",
    "    # validation:\n",
    "    model.eval()\n",
    "\n",
    "    with torch.no_grad():\n",
    "        correct = 0\n",
    "        total = 0\n",
    "        for images, labels in valid_loader:\n",
    "            images = images.to(device)\n",
    "            labels = labels.to(device)\n",
    "            \n",
    "            pred = model(images)\n",
    "            loss = loss_fn(pred, labels)\n",
    "            _, predicted = torch.max(pred, dim=1)\n",
    "            val_loss.append(loss.item())\n",
    "            total += labels.size(0)\n",
    "            correct += (predicted == labels).sum().item()\n",
    "\n",
    "    # calculate acc\n",
    "    val_acc = correct / total\n",
    "    \n",
    "    lr = None\n",
    "    for param_group in optimizer.param_groups:\n",
    "        lr = param_group['lr']\n",
    "    print(\"Epoch: {}, Train Loss: {:.3f}, Val Loss: {:.3f}, Val Acc: {:.3f}\".format(\n",
    "        epoch+1, np.mean(train_loss), np.mean(val_loss), val_acc))\n",
    "\n",
    "    # save checkpoint\n",
    "    if val_acc > prev_acc:\n",
    "        prev_acc = val_acc\n",
    "        path = './model/model.pth'\n",
    "        state = {'epoch': epoch + 1,\n",
    "                 'state_dict': model.state_dict(),\n",
    "                 'optimizer': optimizer.state_dict()}\n",
    "        torch.save(state, path)\n",
    "        print(\"Model Saved. val acc: {:.3f}\".format(val_acc))"
   ]
  },
  {
   "cell_type": "markdown",
   "metadata": {},
   "source": [
    "## Check Model"
   ]
  },
  {
   "cell_type": "code",
   "execution_count": 15,
   "metadata": {},
   "outputs": [],
   "source": [
    "# helper function to load model (checkpoint)\n",
    "def load_checkpoint(model, optimizer, device, filename='checkpoint.pth'):\n",
    "    # Note: input model and optimizer should be pre-defined. this routine only updates their states\n",
    "    epoch = 0\n",
    "    if os.path.isfile(filename):\n",
    "        print(\"=> loading checkpoint '{}'\".format(filename))\n",
    "        checkpoint = torch.load(filename)\n",
    "        epoch = checkpoint['epoch']\n",
    "        model.load_state_dict(checkpoint['state_dict'])\n",
    "        optimizer.load_state_dict(checkpoint['optimizer'])\n",
    "        print(\"=> loaded checkpoint '{}' (epoch {})\".format(filename, checkpoint['epoch']))\n",
    "    else:\n",
    "        print(\"=> no checkpoint found at '{}'\".format(filename))\n",
    "\n",
    "    model.to(device)\n",
    "    # now individually transfer the optimizer parts\n",
    "    for state in optimizer.state.values():\n",
    "        for k, v in state.items():\n",
    "            if isinstance(v, torch.Tensor):\n",
    "                state[k] = v.to(device)\n",
    "    return model, optimizer, epoch"
   ]
  },
  {
   "cell_type": "code",
   "execution_count": 16,
   "metadata": {},
   "outputs": [
    {
     "name": "stdout",
     "output_type": "stream",
     "text": [
      "=> loading checkpoint './model/model.pth'\n",
      "=> loaded checkpoint './model/model.pth' (epoch 23)\n"
     ]
    }
   ],
   "source": [
    "# load model\n",
    "filename = './model/model.pth'\n",
    "\n",
    "model, optimizer, prev_acc = load_checkpoint(model,\n",
    "                                             optimizer,\n",
    "                                             device,\n",
    "                                             filename)"
   ]
  },
  {
   "cell_type": "code",
   "execution_count": 17,
   "metadata": {},
   "outputs": [],
   "source": [
    "valid = pd.read_csv('valid.csv')\n",
    "dataset_valid = WeseeDataset(valid, classes, transform=transform, size=image_size)\n",
    "\n",
    "valid_loader = data.DataLoader(\n",
    "    dataset_valid,\n",
    "    batch_size=batch_size,\n",
    "    shuffle=False,\n",
    "    num_workers=4,\n",
    "    pin_memory=True)"
   ]
  },
  {
   "cell_type": "code",
   "execution_count": 18,
   "metadata": {},
   "outputs": [
    {
     "name": "stdout",
     "output_type": "stream",
     "text": [
      "Validation accuracy: 94.12%\n"
     ]
    }
   ],
   "source": [
    "model.eval()\n",
    "\n",
    "correct = 0\n",
    "total = 0\n",
    "for images, labels in valid_loader:\n",
    "    images = images.to(device)\n",
    "    labels = labels.to(device)\n",
    "\n",
    "    pred = model(images)\n",
    "    _, predicted = torch.max(pred, dim=1)\n",
    "    \n",
    "    total += labels.size(0)\n",
    "    correct += (predicted == labels).sum().item()\n",
    "    \n",
    "# calculate acc\n",
    "val_acc = correct / total\n",
    "\n",
    "print(\"Validation accuracy: {:.2f}%\".format(val_acc*100))"
   ]
  },
  {
   "cell_type": "code",
   "execution_count": null,
   "metadata": {},
   "outputs": [],
   "source": []
  }
 ],
 "metadata": {
  "kernelspec": {
   "display_name": "Python 3",
   "language": "python",
   "name": "python3"
  },
  "language_info": {
   "codemirror_mode": {
    "name": "ipython",
    "version": 3
   },
   "file_extension": ".py",
   "mimetype": "text/x-python",
   "name": "python",
   "nbconvert_exporter": "python",
   "pygments_lexer": "ipython3",
   "version": "3.5.4"
  }
 },
 "nbformat": 4,
 "nbformat_minor": 2
}
